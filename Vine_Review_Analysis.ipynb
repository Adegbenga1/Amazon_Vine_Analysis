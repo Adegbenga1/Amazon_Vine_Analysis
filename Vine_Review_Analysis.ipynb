{
  "nbformat": 4,
  "nbformat_minor": 0,
  "metadata": {
    "colab": {
      "name": "Vine_Review_Analysis.ipynb",
      "provenance": [],
      "collapsed_sections": [],
      "toc_visible": true
    },
    "kernelspec": {
      "name": "python3",
      "display_name": "Python 3"
    },
    "language_info": {
      "name": "python"
    }
  },
  "cells": [
    {
      "cell_type": "code",
      "metadata": {
        "colab": {
          "base_uri": "https://localhost:8080/"
        },
        "id": "92ydNb60nBDR",
        "outputId": "bfd6a1ab-bdef-4d01-b326-ad7a5d864019"
      },
      "source": [
        "import matplotlib.pyplot as plt\n",
        "import matplotlib as mpl\n",
        "from pathlib import Path\n",
        "from sklearn.linear_model import LinearRegression\n",
        "import datetime as dt\n",
        "from datetime import datetime\n",
        "from pandas import DataFrame\n",
        "import pandas as pd\n",
        "import numpy as np\n",
        "import os\n",
        "# Find the latest version of spark 3.0  from http://www.apache.org/dist/spark/ and enter as the spark version\n",
        "# For example:\n",
        "# spark_version = 'spark-3.0.3'\n",
        "spark_version = 'spark-3.0.3'\n",
        "os.environ['SPARK_VERSION']=spark_version\n",
        "\n",
        "# Install Spark and Java\n",
        "!apt-get update\n",
        "!apt-get install openjdk-11-jdk-headless -qq > /dev/null\n",
        "!wget -q http://www.apache.org/dist/spark/$SPARK_VERSION/$SPARK_VERSION-bin-hadoop2.7.tgz\n",
        "!tar xf $SPARK_VERSION-bin-hadoop2.7.tgz\n",
        "!pip install -q findspark\n",
        "\n",
        "# Set Environment Variables\n",
        "os.environ[\"JAVA_HOME\"] = \"/usr/lib/jvm/java-11-openjdk-amd64\"\n",
        "os.environ[\"SPARK_HOME\"] = f\"/content/{spark_version}-bin-hadoop2.7\"\n",
        "\n",
        "# Start a SparkSession\n",
        "import findspark\n",
        "findspark.init()"
      ],
      "execution_count": null,
      "outputs": [
        {
          "output_type": "stream",
          "name": "stdout",
          "text": [
            "\r0% [Working]\r            \rHit:1 https://cloud.r-project.org/bin/linux/ubuntu bionic-cran40/ InRelease\n",
            "\r0% [Connecting to archive.ubuntu.com (91.189.88.152)] [Connecting to security.u\r0% [1 InRelease gpgv 3,626 B] [Connecting to archive.ubuntu.com (91.189.88.152)\r                                                                               \rIgn:2 https://developer.download.nvidia.com/compute/cuda/repos/ubuntu1804/x86_64  InRelease\n",
            "Get:3 http://security.ubuntu.com/ubuntu bionic-security InRelease [88.7 kB]\n",
            "Ign:4 https://developer.download.nvidia.com/compute/machine-learning/repos/ubuntu1804/x86_64  InRelease\n",
            "Hit:5 http://ppa.launchpad.net/c2d4u.team/c2d4u4.0+/ubuntu bionic InRelease\n",
            "Hit:6 https://developer.download.nvidia.com/compute/cuda/repos/ubuntu1804/x86_64  Release\n",
            "Hit:7 https://developer.download.nvidia.com/compute/machine-learning/repos/ubuntu1804/x86_64  Release\n",
            "Hit:8 http://archive.ubuntu.com/ubuntu bionic InRelease\n",
            "Get:9 http://archive.ubuntu.com/ubuntu bionic-updates InRelease [88.7 kB]\n",
            "Hit:10 http://ppa.launchpad.net/cran/libgit2/ubuntu bionic InRelease\n",
            "Hit:11 http://ppa.launchpad.net/deadsnakes/ppa/ubuntu bionic InRelease\n",
            "Get:13 http://archive.ubuntu.com/ubuntu bionic-backports InRelease [74.6 kB]\n",
            "Hit:14 http://ppa.launchpad.net/graphics-drivers/ppa/ubuntu bionic InRelease\n",
            "Fetched 252 kB in 2s (107 kB/s)\n",
            "Reading package lists... Done\n"
          ]
        }
      ]
    },
    {
      "cell_type": "code",
      "metadata": {
        "id": "qhMhYpPQnYXo"
      },
      "source": [
        "vine_table_df = pd.read_csv('/content/vine_table.csv')\n"
      ],
      "execution_count": null,
      "outputs": []
    },
    {
      "cell_type": "code",
      "metadata": {
        "colab": {
          "base_uri": "https://localhost:8080/",
          "height": 200
        },
        "id": "8qCbR8rBnrq-",
        "outputId": "4120b295-da20-4661-dcf2-6031f294f90c"
      },
      "source": [
        "vine_table_df.head()\n"
      ],
      "execution_count": null,
      "outputs": [
        {
          "output_type": "execute_result",
          "data": {
            "text/html": [
              "<div>\n",
              "<style scoped>\n",
              "    .dataframe tbody tr th:only-of-type {\n",
              "        vertical-align: middle;\n",
              "    }\n",
              "\n",
              "    .dataframe tbody tr th {\n",
              "        vertical-align: top;\n",
              "    }\n",
              "\n",
              "    .dataframe thead th {\n",
              "        text-align: right;\n",
              "    }\n",
              "</style>\n",
              "<table border=\"1\" class=\"dataframe\">\n",
              "  <thead>\n",
              "    <tr style=\"text-align: right;\">\n",
              "      <th></th>\n",
              "      <th>review_id</th>\n",
              "      <th>star_rating</th>\n",
              "      <th>helpful_votes</th>\n",
              "      <th>total_votes</th>\n",
              "      <th>vine</th>\n",
              "      <th>verified_purchase</th>\n",
              "    </tr>\n",
              "  </thead>\n",
              "  <tbody>\n",
              "    <tr>\n",
              "      <th>0</th>\n",
              "      <td>R1QX6706ZWJ1P5</td>\n",
              "      <td>5</td>\n",
              "      <td>0</td>\n",
              "      <td>0</td>\n",
              "      <td>N</td>\n",
              "      <td>Y</td>\n",
              "    </tr>\n",
              "    <tr>\n",
              "      <th>1</th>\n",
              "      <td>R3QWMLJHIW6P37</td>\n",
              "      <td>5</td>\n",
              "      <td>0</td>\n",
              "      <td>0</td>\n",
              "      <td>N</td>\n",
              "      <td>Y</td>\n",
              "    </tr>\n",
              "    <tr>\n",
              "      <th>2</th>\n",
              "      <td>R14Z1VR1N0Z9G6</td>\n",
              "      <td>5</td>\n",
              "      <td>1</td>\n",
              "      <td>1</td>\n",
              "      <td>N</td>\n",
              "      <td>Y</td>\n",
              "    </tr>\n",
              "    <tr>\n",
              "      <th>3</th>\n",
              "      <td>R25ZRJL0GH0U0</td>\n",
              "      <td>2</td>\n",
              "      <td>0</td>\n",
              "      <td>0</td>\n",
              "      <td>N</td>\n",
              "      <td>Y</td>\n",
              "    </tr>\n",
              "    <tr>\n",
              "      <th>4</th>\n",
              "      <td>R3837KYH7AZNIY</td>\n",
              "      <td>4</td>\n",
              "      <td>0</td>\n",
              "      <td>1</td>\n",
              "      <td>N</td>\n",
              "      <td>Y</td>\n",
              "    </tr>\n",
              "  </tbody>\n",
              "</table>\n",
              "</div>"
            ],
            "text/plain": [
              "        review_id  star_rating  ...  vine  verified_purchase\n",
              "0  R1QX6706ZWJ1P5            5  ...     N                  Y\n",
              "1  R3QWMLJHIW6P37            5  ...     N                  Y\n",
              "2  R14Z1VR1N0Z9G6            5  ...     N                  Y\n",
              "3   R25ZRJL0GH0U0            2  ...     N                  Y\n",
              "4  R3837KYH7AZNIY            4  ...     N                  Y\n",
              "\n",
              "[5 rows x 6 columns]"
            ]
          },
          "metadata": {},
          "execution_count": 69
        }
      ]
    },
    {
      "cell_type": "code",
      "metadata": {
        "colab": {
          "base_uri": "https://localhost:8080/",
          "height": 408
        },
        "id": "2Ql2-Z7zPpAO",
        "outputId": "4bc55917-ec8d-4de5-a4a4-eddbfe0e0c5a"
      },
      "source": [
        "vine_table_df[\"ratio_helpful_total_votes\"] = (\n",
        "   vine_table_df[\"helpful_votes\"] / vine_table_df[\"total_votes\"]\n",
        ")\n",
        "vine_table_df"
      ],
      "execution_count": null,
      "outputs": [
        {
          "output_type": "execute_result",
          "data": {
            "text/html": [
              "<div>\n",
              "<style scoped>\n",
              "    .dataframe tbody tr th:only-of-type {\n",
              "        vertical-align: middle;\n",
              "    }\n",
              "\n",
              "    .dataframe tbody tr th {\n",
              "        vertical-align: top;\n",
              "    }\n",
              "\n",
              "    .dataframe thead th {\n",
              "        text-align: right;\n",
              "    }\n",
              "</style>\n",
              "<table border=\"1\" class=\"dataframe\">\n",
              "  <thead>\n",
              "    <tr style=\"text-align: right;\">\n",
              "      <th></th>\n",
              "      <th>review_id</th>\n",
              "      <th>star_rating</th>\n",
              "      <th>helpful_votes</th>\n",
              "      <th>total_votes</th>\n",
              "      <th>vine</th>\n",
              "      <th>verified_purchase</th>\n",
              "      <th>ratio_helpful_total_votes</th>\n",
              "    </tr>\n",
              "  </thead>\n",
              "  <tbody>\n",
              "    <tr>\n",
              "      <th>0</th>\n",
              "      <td>R1QX6706ZWJ1P5</td>\n",
              "      <td>5</td>\n",
              "      <td>0</td>\n",
              "      <td>0</td>\n",
              "      <td>N</td>\n",
              "      <td>Y</td>\n",
              "      <td>NaN</td>\n",
              "    </tr>\n",
              "    <tr>\n",
              "      <th>1</th>\n",
              "      <td>R3QWMLJHIW6P37</td>\n",
              "      <td>5</td>\n",
              "      <td>0</td>\n",
              "      <td>0</td>\n",
              "      <td>N</td>\n",
              "      <td>Y</td>\n",
              "      <td>NaN</td>\n",
              "    </tr>\n",
              "    <tr>\n",
              "      <th>2</th>\n",
              "      <td>R14Z1VR1N0Z9G6</td>\n",
              "      <td>5</td>\n",
              "      <td>1</td>\n",
              "      <td>1</td>\n",
              "      <td>N</td>\n",
              "      <td>Y</td>\n",
              "      <td>1.000000</td>\n",
              "    </tr>\n",
              "    <tr>\n",
              "      <th>3</th>\n",
              "      <td>R25ZRJL0GH0U0</td>\n",
              "      <td>2</td>\n",
              "      <td>0</td>\n",
              "      <td>0</td>\n",
              "      <td>N</td>\n",
              "      <td>Y</td>\n",
              "      <td>NaN</td>\n",
              "    </tr>\n",
              "    <tr>\n",
              "      <th>4</th>\n",
              "      <td>R3837KYH7AZNIY</td>\n",
              "      <td>4</td>\n",
              "      <td>0</td>\n",
              "      <td>1</td>\n",
              "      <td>N</td>\n",
              "      <td>Y</td>\n",
              "      <td>0.000000</td>\n",
              "    </tr>\n",
              "    <tr>\n",
              "      <th>...</th>\n",
              "      <td>...</td>\n",
              "      <td>...</td>\n",
              "      <td>...</td>\n",
              "      <td>...</td>\n",
              "      <td>...</td>\n",
              "      <td>...</td>\n",
              "      <td>...</td>\n",
              "    </tr>\n",
              "    <tr>\n",
              "      <th>85976</th>\n",
              "      <td>R1NUYN39WEVD9X</td>\n",
              "      <td>5</td>\n",
              "      <td>96</td>\n",
              "      <td>98</td>\n",
              "      <td>N</td>\n",
              "      <td>N</td>\n",
              "      <td>0.979592</td>\n",
              "    </tr>\n",
              "    <tr>\n",
              "      <th>85977</th>\n",
              "      <td>RD17SQQ58L34O</td>\n",
              "      <td>5</td>\n",
              "      <td>46</td>\n",
              "      <td>48</td>\n",
              "      <td>N</td>\n",
              "      <td>N</td>\n",
              "      <td>0.958333</td>\n",
              "    </tr>\n",
              "    <tr>\n",
              "      <th>85978</th>\n",
              "      <td>R30DX2RCMIKQ90</td>\n",
              "      <td>5</td>\n",
              "      <td>31</td>\n",
              "      <td>34</td>\n",
              "      <td>N</td>\n",
              "      <td>N</td>\n",
              "      <td>0.911765</td>\n",
              "    </tr>\n",
              "    <tr>\n",
              "      <th>85979</th>\n",
              "      <td>R1O8C9XEYHQUIH</td>\n",
              "      <td>2</td>\n",
              "      <td>38</td>\n",
              "      <td>41</td>\n",
              "      <td>N</td>\n",
              "      <td>N</td>\n",
              "      <td>0.926829</td>\n",
              "    </tr>\n",
              "    <tr>\n",
              "      <th>85980</th>\n",
              "      <td>R1WM4Y8G4DPHTL</td>\n",
              "      <td>5</td>\n",
              "      <td>19</td>\n",
              "      <td>21</td>\n",
              "      <td>N</td>\n",
              "      <td>N</td>\n",
              "      <td>0.904762</td>\n",
              "    </tr>\n",
              "  </tbody>\n",
              "</table>\n",
              "<p>85981 rows × 7 columns</p>\n",
              "</div>"
            ],
            "text/plain": [
              "            review_id  star_rating  ...  verified_purchase  ratio_helpful_total_votes\n",
              "0      R1QX6706ZWJ1P5            5  ...                  Y                        NaN\n",
              "1      R3QWMLJHIW6P37            5  ...                  Y                        NaN\n",
              "2      R14Z1VR1N0Z9G6            5  ...                  Y                   1.000000\n",
              "3       R25ZRJL0GH0U0            2  ...                  Y                        NaN\n",
              "4      R3837KYH7AZNIY            4  ...                  Y                   0.000000\n",
              "...               ...          ...  ...                ...                        ...\n",
              "85976  R1NUYN39WEVD9X            5  ...                  N                   0.979592\n",
              "85977   RD17SQQ58L34O            5  ...                  N                   0.958333\n",
              "85978  R30DX2RCMIKQ90            5  ...                  N                   0.911765\n",
              "85979  R1O8C9XEYHQUIH            2  ...                  N                   0.926829\n",
              "85980  R1WM4Y8G4DPHTL            5  ...                  N                   0.904762\n",
              "\n",
              "[85981 rows x 7 columns]"
            ]
          },
          "metadata": {},
          "execution_count": 70
        }
      ]
    },
    {
      "cell_type": "code",
      "metadata": {
        "colab": {
          "base_uri": "https://localhost:8080/"
        },
        "id": "DdNceJaiXyAX",
        "outputId": "663cae63-2eec-48c3-fdae-567649915db9"
      },
      "source": [
        "vine_table_df.count()"
      ],
      "execution_count": null,
      "outputs": [
        {
          "output_type": "execute_result",
          "data": {
            "text/plain": [
              "review_id                    85981\n",
              "star_rating                  85981\n",
              "helpful_votes                85981\n",
              "total_votes                  85981\n",
              "vine                         85981\n",
              "verified_purchase            85981\n",
              "ratio_helpful_total_votes    46097\n",
              "dtype: int64"
            ]
          },
          "metadata": {},
          "execution_count": 71
        }
      ]
    },
    {
      "cell_type": "code",
      "metadata": {
        "colab": {
          "base_uri": "https://localhost:8080/",
          "height": 408
        },
        "id": "oD9Who_mQiUU",
        "outputId": "c9190aaa-0b77-43d1-e6b4-6ad860d3f3a6"
      },
      "source": [
        "New_vine_table = vine_table_df.dropna()\n",
        "New_vine_table"
      ],
      "execution_count": null,
      "outputs": [
        {
          "output_type": "execute_result",
          "data": {
            "text/html": [
              "<div>\n",
              "<style scoped>\n",
              "    .dataframe tbody tr th:only-of-type {\n",
              "        vertical-align: middle;\n",
              "    }\n",
              "\n",
              "    .dataframe tbody tr th {\n",
              "        vertical-align: top;\n",
              "    }\n",
              "\n",
              "    .dataframe thead th {\n",
              "        text-align: right;\n",
              "    }\n",
              "</style>\n",
              "<table border=\"1\" class=\"dataframe\">\n",
              "  <thead>\n",
              "    <tr style=\"text-align: right;\">\n",
              "      <th></th>\n",
              "      <th>review_id</th>\n",
              "      <th>star_rating</th>\n",
              "      <th>helpful_votes</th>\n",
              "      <th>total_votes</th>\n",
              "      <th>vine</th>\n",
              "      <th>verified_purchase</th>\n",
              "      <th>ratio_helpful_total_votes</th>\n",
              "    </tr>\n",
              "  </thead>\n",
              "  <tbody>\n",
              "    <tr>\n",
              "      <th>2</th>\n",
              "      <td>R14Z1VR1N0Z9G6</td>\n",
              "      <td>5</td>\n",
              "      <td>1</td>\n",
              "      <td>1</td>\n",
              "      <td>N</td>\n",
              "      <td>Y</td>\n",
              "      <td>1.000000</td>\n",
              "    </tr>\n",
              "    <tr>\n",
              "      <th>4</th>\n",
              "      <td>R3837KYH7AZNIY</td>\n",
              "      <td>4</td>\n",
              "      <td>0</td>\n",
              "      <td>1</td>\n",
              "      <td>N</td>\n",
              "      <td>Y</td>\n",
              "      <td>0.000000</td>\n",
              "    </tr>\n",
              "    <tr>\n",
              "      <th>12</th>\n",
              "      <td>RN37YYZBP9BMP</td>\n",
              "      <td>5</td>\n",
              "      <td>4</td>\n",
              "      <td>4</td>\n",
              "      <td>N</td>\n",
              "      <td>Y</td>\n",
              "      <td>1.000000</td>\n",
              "    </tr>\n",
              "    <tr>\n",
              "      <th>19</th>\n",
              "      <td>RNFW9SWC5D0YF</td>\n",
              "      <td>5</td>\n",
              "      <td>2</td>\n",
              "      <td>2</td>\n",
              "      <td>N</td>\n",
              "      <td>N</td>\n",
              "      <td>1.000000</td>\n",
              "    </tr>\n",
              "    <tr>\n",
              "      <th>21</th>\n",
              "      <td>R24V6VDHS7JMQV</td>\n",
              "      <td>5</td>\n",
              "      <td>1</td>\n",
              "      <td>1</td>\n",
              "      <td>N</td>\n",
              "      <td>Y</td>\n",
              "      <td>1.000000</td>\n",
              "    </tr>\n",
              "    <tr>\n",
              "      <th>...</th>\n",
              "      <td>...</td>\n",
              "      <td>...</td>\n",
              "      <td>...</td>\n",
              "      <td>...</td>\n",
              "      <td>...</td>\n",
              "      <td>...</td>\n",
              "      <td>...</td>\n",
              "    </tr>\n",
              "    <tr>\n",
              "      <th>85976</th>\n",
              "      <td>R1NUYN39WEVD9X</td>\n",
              "      <td>5</td>\n",
              "      <td>96</td>\n",
              "      <td>98</td>\n",
              "      <td>N</td>\n",
              "      <td>N</td>\n",
              "      <td>0.979592</td>\n",
              "    </tr>\n",
              "    <tr>\n",
              "      <th>85977</th>\n",
              "      <td>RD17SQQ58L34O</td>\n",
              "      <td>5</td>\n",
              "      <td>46</td>\n",
              "      <td>48</td>\n",
              "      <td>N</td>\n",
              "      <td>N</td>\n",
              "      <td>0.958333</td>\n",
              "    </tr>\n",
              "    <tr>\n",
              "      <th>85978</th>\n",
              "      <td>R30DX2RCMIKQ90</td>\n",
              "      <td>5</td>\n",
              "      <td>31</td>\n",
              "      <td>34</td>\n",
              "      <td>N</td>\n",
              "      <td>N</td>\n",
              "      <td>0.911765</td>\n",
              "    </tr>\n",
              "    <tr>\n",
              "      <th>85979</th>\n",
              "      <td>R1O8C9XEYHQUIH</td>\n",
              "      <td>2</td>\n",
              "      <td>38</td>\n",
              "      <td>41</td>\n",
              "      <td>N</td>\n",
              "      <td>N</td>\n",
              "      <td>0.926829</td>\n",
              "    </tr>\n",
              "    <tr>\n",
              "      <th>85980</th>\n",
              "      <td>R1WM4Y8G4DPHTL</td>\n",
              "      <td>5</td>\n",
              "      <td>19</td>\n",
              "      <td>21</td>\n",
              "      <td>N</td>\n",
              "      <td>N</td>\n",
              "      <td>0.904762</td>\n",
              "    </tr>\n",
              "  </tbody>\n",
              "</table>\n",
              "<p>46097 rows × 7 columns</p>\n",
              "</div>"
            ],
            "text/plain": [
              "            review_id  star_rating  ...  verified_purchase  ratio_helpful_total_votes\n",
              "2      R14Z1VR1N0Z9G6            5  ...                  Y                   1.000000\n",
              "4      R3837KYH7AZNIY            4  ...                  Y                   0.000000\n",
              "12      RN37YYZBP9BMP            5  ...                  Y                   1.000000\n",
              "19      RNFW9SWC5D0YF            5  ...                  N                   1.000000\n",
              "21     R24V6VDHS7JMQV            5  ...                  Y                   1.000000\n",
              "...               ...          ...  ...                ...                        ...\n",
              "85976  R1NUYN39WEVD9X            5  ...                  N                   0.979592\n",
              "85977   RD17SQQ58L34O            5  ...                  N                   0.958333\n",
              "85978  R30DX2RCMIKQ90            5  ...                  N                   0.911765\n",
              "85979  R1O8C9XEYHQUIH            2  ...                  N                   0.926829\n",
              "85980  R1WM4Y8G4DPHTL            5  ...                  N                   0.904762\n",
              "\n",
              "[46097 rows x 7 columns]"
            ]
          },
          "metadata": {},
          "execution_count": 72
        }
      ]
    },
    {
      "cell_type": "code",
      "metadata": {
        "colab": {
          "base_uri": "https://localhost:8080/"
        },
        "id": "FByfz7J8X8qD",
        "outputId": "4e21b954-ca08-4eb2-a691-23434f52dcf2"
      },
      "source": [
        "New_vine_table.count()"
      ],
      "execution_count": null,
      "outputs": [
        {
          "output_type": "execute_result",
          "data": {
            "text/plain": [
              "review_id                    46097\n",
              "star_rating                  46097\n",
              "helpful_votes                46097\n",
              "total_votes                  46097\n",
              "vine                         46097\n",
              "verified_purchase            46097\n",
              "ratio_helpful_total_votes    46097\n",
              "dtype: int64"
            ]
          },
          "metadata": {},
          "execution_count": 73
        }
      ]
    },
    {
      "cell_type": "code",
      "metadata": {
        "colab": {
          "base_uri": "https://localhost:8080/",
          "height": 408
        },
        "id": "cbolmmsxnuJk",
        "outputId": "fce43d46-a394-46a6-c667-4e0f0de204c0"
      },
      "source": [
        "New_vine_table_votes_over_20 = vine_table_df[(vine_table_df[\"total_votes\"] >= 20)]\n",
        "New_vine_table_votes_over_20                       "
      ],
      "execution_count": null,
      "outputs": [
        {
          "output_type": "execute_result",
          "data": {
            "text/html": [
              "<div>\n",
              "<style scoped>\n",
              "    .dataframe tbody tr th:only-of-type {\n",
              "        vertical-align: middle;\n",
              "    }\n",
              "\n",
              "    .dataframe tbody tr th {\n",
              "        vertical-align: top;\n",
              "    }\n",
              "\n",
              "    .dataframe thead th {\n",
              "        text-align: right;\n",
              "    }\n",
              "</style>\n",
              "<table border=\"1\" class=\"dataframe\">\n",
              "  <thead>\n",
              "    <tr style=\"text-align: right;\">\n",
              "      <th></th>\n",
              "      <th>review_id</th>\n",
              "      <th>star_rating</th>\n",
              "      <th>helpful_votes</th>\n",
              "      <th>total_votes</th>\n",
              "      <th>vine</th>\n",
              "      <th>verified_purchase</th>\n",
              "      <th>ratio_helpful_total_votes</th>\n",
              "    </tr>\n",
              "  </thead>\n",
              "  <tbody>\n",
              "    <tr>\n",
              "      <th>884</th>\n",
              "      <td>R2PT2X8FMYFCV3</td>\n",
              "      <td>5</td>\n",
              "      <td>39</td>\n",
              "      <td>41</td>\n",
              "      <td>N</td>\n",
              "      <td>Y</td>\n",
              "      <td>0.951220</td>\n",
              "    </tr>\n",
              "    <tr>\n",
              "      <th>917</th>\n",
              "      <td>RGCUQSH80SYY7</td>\n",
              "      <td>1</td>\n",
              "      <td>36</td>\n",
              "      <td>47</td>\n",
              "      <td>N</td>\n",
              "      <td>N</td>\n",
              "      <td>0.765957</td>\n",
              "    </tr>\n",
              "    <tr>\n",
              "      <th>939</th>\n",
              "      <td>R3E6EI073KP0AL</td>\n",
              "      <td>2</td>\n",
              "      <td>21</td>\n",
              "      <td>36</td>\n",
              "      <td>N</td>\n",
              "      <td>Y</td>\n",
              "      <td>0.583333</td>\n",
              "    </tr>\n",
              "    <tr>\n",
              "      <th>947</th>\n",
              "      <td>R3MYTXW7B4Z6YW</td>\n",
              "      <td>4</td>\n",
              "      <td>687</td>\n",
              "      <td>711</td>\n",
              "      <td>N</td>\n",
              "      <td>Y</td>\n",
              "      <td>0.966245</td>\n",
              "    </tr>\n",
              "    <tr>\n",
              "      <th>1211</th>\n",
              "      <td>R2WMF1IWN5ZYO4</td>\n",
              "      <td>5</td>\n",
              "      <td>18</td>\n",
              "      <td>24</td>\n",
              "      <td>N</td>\n",
              "      <td>Y</td>\n",
              "      <td>0.750000</td>\n",
              "    </tr>\n",
              "    <tr>\n",
              "      <th>...</th>\n",
              "      <td>...</td>\n",
              "      <td>...</td>\n",
              "      <td>...</td>\n",
              "      <td>...</td>\n",
              "      <td>...</td>\n",
              "      <td>...</td>\n",
              "      <td>...</td>\n",
              "    </tr>\n",
              "    <tr>\n",
              "      <th>85976</th>\n",
              "      <td>R1NUYN39WEVD9X</td>\n",
              "      <td>5</td>\n",
              "      <td>96</td>\n",
              "      <td>98</td>\n",
              "      <td>N</td>\n",
              "      <td>N</td>\n",
              "      <td>0.979592</td>\n",
              "    </tr>\n",
              "    <tr>\n",
              "      <th>85977</th>\n",
              "      <td>RD17SQQ58L34O</td>\n",
              "      <td>5</td>\n",
              "      <td>46</td>\n",
              "      <td>48</td>\n",
              "      <td>N</td>\n",
              "      <td>N</td>\n",
              "      <td>0.958333</td>\n",
              "    </tr>\n",
              "    <tr>\n",
              "      <th>85978</th>\n",
              "      <td>R30DX2RCMIKQ90</td>\n",
              "      <td>5</td>\n",
              "      <td>31</td>\n",
              "      <td>34</td>\n",
              "      <td>N</td>\n",
              "      <td>N</td>\n",
              "      <td>0.911765</td>\n",
              "    </tr>\n",
              "    <tr>\n",
              "      <th>85979</th>\n",
              "      <td>R1O8C9XEYHQUIH</td>\n",
              "      <td>2</td>\n",
              "      <td>38</td>\n",
              "      <td>41</td>\n",
              "      <td>N</td>\n",
              "      <td>N</td>\n",
              "      <td>0.926829</td>\n",
              "    </tr>\n",
              "    <tr>\n",
              "      <th>85980</th>\n",
              "      <td>R1WM4Y8G4DPHTL</td>\n",
              "      <td>5</td>\n",
              "      <td>19</td>\n",
              "      <td>21</td>\n",
              "      <td>N</td>\n",
              "      <td>N</td>\n",
              "      <td>0.904762</td>\n",
              "    </tr>\n",
              "  </tbody>\n",
              "</table>\n",
              "<p>3414 rows × 7 columns</p>\n",
              "</div>"
            ],
            "text/plain": [
              "            review_id  star_rating  ...  verified_purchase  ratio_helpful_total_votes\n",
              "884    R2PT2X8FMYFCV3            5  ...                  Y                   0.951220\n",
              "917     RGCUQSH80SYY7            1  ...                  N                   0.765957\n",
              "939    R3E6EI073KP0AL            2  ...                  Y                   0.583333\n",
              "947    R3MYTXW7B4Z6YW            4  ...                  Y                   0.966245\n",
              "1211   R2WMF1IWN5ZYO4            5  ...                  Y                   0.750000\n",
              "...               ...          ...  ...                ...                        ...\n",
              "85976  R1NUYN39WEVD9X            5  ...                  N                   0.979592\n",
              "85977   RD17SQQ58L34O            5  ...                  N                   0.958333\n",
              "85978  R30DX2RCMIKQ90            5  ...                  N                   0.911765\n",
              "85979  R1O8C9XEYHQUIH            2  ...                  N                   0.926829\n",
              "85980  R1WM4Y8G4DPHTL            5  ...                  N                   0.904762\n",
              "\n",
              "[3414 rows x 7 columns]"
            ]
          },
          "metadata": {},
          "execution_count": 74
        }
      ]
    },
    {
      "cell_type": "code",
      "metadata": {
        "colab": {
          "base_uri": "https://localhost:8080/",
          "height": 408
        },
        "id": "O9wMgVqrmLyS",
        "outputId": "c12c6743-d817-4b07-8813-875b2a82e5a3"
      },
      "source": [
        "Vote_ratio_over_50 = New_vine_table_votes_over_20[(New_vine_table_votes_over_20[\"ratio_helpful_total_votes\"] >= 0.5)]\n",
        "Vote_ratio_over_50"
      ],
      "execution_count": null,
      "outputs": [
        {
          "output_type": "execute_result",
          "data": {
            "text/html": [
              "<div>\n",
              "<style scoped>\n",
              "    .dataframe tbody tr th:only-of-type {\n",
              "        vertical-align: middle;\n",
              "    }\n",
              "\n",
              "    .dataframe tbody tr th {\n",
              "        vertical-align: top;\n",
              "    }\n",
              "\n",
              "    .dataframe thead th {\n",
              "        text-align: right;\n",
              "    }\n",
              "</style>\n",
              "<table border=\"1\" class=\"dataframe\">\n",
              "  <thead>\n",
              "    <tr style=\"text-align: right;\">\n",
              "      <th></th>\n",
              "      <th>review_id</th>\n",
              "      <th>star_rating</th>\n",
              "      <th>helpful_votes</th>\n",
              "      <th>total_votes</th>\n",
              "      <th>vine</th>\n",
              "      <th>verified_purchase</th>\n",
              "      <th>ratio_helpful_total_votes</th>\n",
              "    </tr>\n",
              "  </thead>\n",
              "  <tbody>\n",
              "    <tr>\n",
              "      <th>884</th>\n",
              "      <td>R2PT2X8FMYFCV3</td>\n",
              "      <td>5</td>\n",
              "      <td>39</td>\n",
              "      <td>41</td>\n",
              "      <td>N</td>\n",
              "      <td>Y</td>\n",
              "      <td>0.951220</td>\n",
              "    </tr>\n",
              "    <tr>\n",
              "      <th>917</th>\n",
              "      <td>RGCUQSH80SYY7</td>\n",
              "      <td>1</td>\n",
              "      <td>36</td>\n",
              "      <td>47</td>\n",
              "      <td>N</td>\n",
              "      <td>N</td>\n",
              "      <td>0.765957</td>\n",
              "    </tr>\n",
              "    <tr>\n",
              "      <th>939</th>\n",
              "      <td>R3E6EI073KP0AL</td>\n",
              "      <td>2</td>\n",
              "      <td>21</td>\n",
              "      <td>36</td>\n",
              "      <td>N</td>\n",
              "      <td>Y</td>\n",
              "      <td>0.583333</td>\n",
              "    </tr>\n",
              "    <tr>\n",
              "      <th>947</th>\n",
              "      <td>R3MYTXW7B4Z6YW</td>\n",
              "      <td>4</td>\n",
              "      <td>687</td>\n",
              "      <td>711</td>\n",
              "      <td>N</td>\n",
              "      <td>Y</td>\n",
              "      <td>0.966245</td>\n",
              "    </tr>\n",
              "    <tr>\n",
              "      <th>1211</th>\n",
              "      <td>R2WMF1IWN5ZYO4</td>\n",
              "      <td>5</td>\n",
              "      <td>18</td>\n",
              "      <td>24</td>\n",
              "      <td>N</td>\n",
              "      <td>Y</td>\n",
              "      <td>0.750000</td>\n",
              "    </tr>\n",
              "    <tr>\n",
              "      <th>...</th>\n",
              "      <td>...</td>\n",
              "      <td>...</td>\n",
              "      <td>...</td>\n",
              "      <td>...</td>\n",
              "      <td>...</td>\n",
              "      <td>...</td>\n",
              "      <td>...</td>\n",
              "    </tr>\n",
              "    <tr>\n",
              "      <th>85976</th>\n",
              "      <td>R1NUYN39WEVD9X</td>\n",
              "      <td>5</td>\n",
              "      <td>96</td>\n",
              "      <td>98</td>\n",
              "      <td>N</td>\n",
              "      <td>N</td>\n",
              "      <td>0.979592</td>\n",
              "    </tr>\n",
              "    <tr>\n",
              "      <th>85977</th>\n",
              "      <td>RD17SQQ58L34O</td>\n",
              "      <td>5</td>\n",
              "      <td>46</td>\n",
              "      <td>48</td>\n",
              "      <td>N</td>\n",
              "      <td>N</td>\n",
              "      <td>0.958333</td>\n",
              "    </tr>\n",
              "    <tr>\n",
              "      <th>85978</th>\n",
              "      <td>R30DX2RCMIKQ90</td>\n",
              "      <td>5</td>\n",
              "      <td>31</td>\n",
              "      <td>34</td>\n",
              "      <td>N</td>\n",
              "      <td>N</td>\n",
              "      <td>0.911765</td>\n",
              "    </tr>\n",
              "    <tr>\n",
              "      <th>85979</th>\n",
              "      <td>R1O8C9XEYHQUIH</td>\n",
              "      <td>2</td>\n",
              "      <td>38</td>\n",
              "      <td>41</td>\n",
              "      <td>N</td>\n",
              "      <td>N</td>\n",
              "      <td>0.926829</td>\n",
              "    </tr>\n",
              "    <tr>\n",
              "      <th>85980</th>\n",
              "      <td>R1WM4Y8G4DPHTL</td>\n",
              "      <td>5</td>\n",
              "      <td>19</td>\n",
              "      <td>21</td>\n",
              "      <td>N</td>\n",
              "      <td>N</td>\n",
              "      <td>0.904762</td>\n",
              "    </tr>\n",
              "  </tbody>\n",
              "</table>\n",
              "<p>3097 rows × 7 columns</p>\n",
              "</div>"
            ],
            "text/plain": [
              "            review_id  star_rating  ...  verified_purchase  ratio_helpful_total_votes\n",
              "884    R2PT2X8FMYFCV3            5  ...                  Y                   0.951220\n",
              "917     RGCUQSH80SYY7            1  ...                  N                   0.765957\n",
              "939    R3E6EI073KP0AL            2  ...                  Y                   0.583333\n",
              "947    R3MYTXW7B4Z6YW            4  ...                  Y                   0.966245\n",
              "1211   R2WMF1IWN5ZYO4            5  ...                  Y                   0.750000\n",
              "...               ...          ...  ...                ...                        ...\n",
              "85976  R1NUYN39WEVD9X            5  ...                  N                   0.979592\n",
              "85977   RD17SQQ58L34O            5  ...                  N                   0.958333\n",
              "85978  R30DX2RCMIKQ90            5  ...                  N                   0.911765\n",
              "85979  R1O8C9XEYHQUIH            2  ...                  N                   0.926829\n",
              "85980  R1WM4Y8G4DPHTL            5  ...                  N                   0.904762\n",
              "\n",
              "[3097 rows x 7 columns]"
            ]
          },
          "metadata": {},
          "execution_count": 75
        }
      ]
    },
    {
      "cell_type": "code",
      "metadata": {
        "colab": {
          "base_uri": "https://localhost:8080/"
        },
        "id": "3H-hueNfSVo9",
        "outputId": "02191c2b-58d5-486d-f764-88c74f2af75b"
      },
      "source": [
        "Vote_ratio_over_50.dtypes"
      ],
      "execution_count": null,
      "outputs": [
        {
          "output_type": "execute_result",
          "data": {
            "text/plain": [
              "review_id                     object\n",
              "star_rating                    int64\n",
              "helpful_votes                  int64\n",
              "total_votes                    int64\n",
              "vine                          object\n",
              "verified_purchase             object\n",
              "ratio_helpful_total_votes    float64\n",
              "dtype: object"
            ]
          },
          "metadata": {},
          "execution_count": 76
        }
      ]
    },
    {
      "cell_type": "code",
      "metadata": {
        "colab": {
          "base_uri": "https://localhost:8080/"
        },
        "id": "A2uZX37ViF7S",
        "outputId": "ce6b8823-009b-4728-e1c8-5444f15a368e"
      },
      "source": [
        "Vote_ratio_over_50.groupby(\"vine\")[\"vine\"].count()"
      ],
      "execution_count": null,
      "outputs": [
        {
          "output_type": "execute_result",
          "data": {
            "text/plain": [
              "vine\n",
              "N    3094\n",
              "Y       3\n",
              "Name: vine, dtype: int64"
            ]
          },
          "metadata": {},
          "execution_count": 77
        }
      ]
    },
    {
      "cell_type": "code",
      "metadata": {
        "colab": {
          "base_uri": "https://localhost:8080/"
        },
        "id": "JAjnG6W_igEF",
        "outputId": "6ada7bd6-5100-4a06-ff6e-5640fb32e4d3"
      },
      "source": [
        "Vote_ratio_over_50[\"vine\"].value_counts()"
      ],
      "execution_count": null,
      "outputs": [
        {
          "output_type": "execute_result",
          "data": {
            "text/plain": [
              "N    3094\n",
              "Y       3\n",
              "Name: vine, dtype: int64"
            ]
          },
          "metadata": {},
          "execution_count": 78
        }
      ]
    },
    {
      "cell_type": "code",
      "metadata": {
        "colab": {
          "base_uri": "https://localhost:8080/"
        },
        "id": "5XRzddwxipAs",
        "outputId": "7740d068-1255-46bc-d12e-83d833e9b728"
      },
      "source": [
        "Vote_ratio_over_50.value_counts()"
      ],
      "execution_count": null,
      "outputs": [
        {
          "output_type": "execute_result",
          "data": {
            "text/plain": [
              "review_id       star_rating  helpful_votes  total_votes  vine  verified_purchase  ratio_helpful_total_votes\n",
              "RZXZEC7KALGBC   2            31             33           N     N                  0.939394                     1\n",
              "R293VYEYAGPQ28  3            125            159          N     N                  0.786164                     1\n",
              "R27WOH64I9SZU0  3            42             56           N     Y                  0.750000                     1\n",
              "R27W8CBHM43YKR  4            44             45           N     Y                  0.977778                     1\n",
              "R27T7CUISH3S8D  4            31             33           N     Y                  0.939394                     1\n",
              "                                                                                                              ..\n",
              "R3HNLUKAQCH8I2  1            56             57           N     N                  0.982456                     1\n",
              "R3HMUYQEY3J0R0  1            29             29           N     N                  1.000000                     1\n",
              "R3HLB17FSI4UHG  4            30             30           N     Y                  1.000000                     1\n",
              "R3HD30442KM5VS  5            19             23           N     Y                  0.826087                     1\n",
              "R101BLOBF0VPZI  5            129            130          N     Y                  0.992308                     1\n",
              "Length: 3097, dtype: int64"
            ]
          },
          "metadata": {},
          "execution_count": 79
        }
      ]
    },
    {
      "cell_type": "code",
      "metadata": {
        "colab": {
          "base_uri": "https://localhost:8080/",
          "height": 138
        },
        "id": "SIfjX9SEjg9U",
        "outputId": "b3259f2c-4698-4508-90ab-47d3de55bbb4"
      },
      "source": [
        "Vine_program_paid = Vote_ratio_over_50[(Vote_ratio_over_50 [\"vine\"] == \"Y\")] \n",
        "Vine_program_paid"
      ],
      "execution_count": null,
      "outputs": [
        {
          "output_type": "execute_result",
          "data": {
            "text/html": [
              "<div>\n",
              "<style scoped>\n",
              "    .dataframe tbody tr th:only-of-type {\n",
              "        vertical-align: middle;\n",
              "    }\n",
              "\n",
              "    .dataframe tbody tr th {\n",
              "        vertical-align: top;\n",
              "    }\n",
              "\n",
              "    .dataframe thead th {\n",
              "        text-align: right;\n",
              "    }\n",
              "</style>\n",
              "<table border=\"1\" class=\"dataframe\">\n",
              "  <thead>\n",
              "    <tr style=\"text-align: right;\">\n",
              "      <th></th>\n",
              "      <th>review_id</th>\n",
              "      <th>star_rating</th>\n",
              "      <th>helpful_votes</th>\n",
              "      <th>total_votes</th>\n",
              "      <th>vine</th>\n",
              "      <th>verified_purchase</th>\n",
              "      <th>ratio_helpful_total_votes</th>\n",
              "    </tr>\n",
              "  </thead>\n",
              "  <tbody>\n",
              "    <tr>\n",
              "      <th>32351</th>\n",
              "      <td>R3R2RHQWEKX5NL</td>\n",
              "      <td>5</td>\n",
              "      <td>81</td>\n",
              "      <td>89</td>\n",
              "      <td>Y</td>\n",
              "      <td>N</td>\n",
              "      <td>0.910112</td>\n",
              "    </tr>\n",
              "    <tr>\n",
              "      <th>32362</th>\n",
              "      <td>R1RZ4JZO8DAP7H</td>\n",
              "      <td>3</td>\n",
              "      <td>200</td>\n",
              "      <td>227</td>\n",
              "      <td>Y</td>\n",
              "      <td>N</td>\n",
              "      <td>0.881057</td>\n",
              "    </tr>\n",
              "    <tr>\n",
              "      <th>32557</th>\n",
              "      <td>RQ94HI0WM8KIG</td>\n",
              "      <td>5</td>\n",
              "      <td>174</td>\n",
              "      <td>188</td>\n",
              "      <td>Y</td>\n",
              "      <td>N</td>\n",
              "      <td>0.925532</td>\n",
              "    </tr>\n",
              "  </tbody>\n",
              "</table>\n",
              "</div>"
            ],
            "text/plain": [
              "            review_id  star_rating  ...  verified_purchase  ratio_helpful_total_votes\n",
              "32351  R3R2RHQWEKX5NL            5  ...                  N                   0.910112\n",
              "32362  R1RZ4JZO8DAP7H            3  ...                  N                   0.881057\n",
              "32557   RQ94HI0WM8KIG            5  ...                  N                   0.925532\n",
              "\n",
              "[3 rows x 7 columns]"
            ]
          },
          "metadata": {},
          "execution_count": 80
        }
      ]
    },
    {
      "cell_type": "code",
      "metadata": {
        "colab": {
          "base_uri": "https://localhost:8080/"
        },
        "id": "aWCEdZOPfQEL",
        "outputId": "2f5a8838-3a16-48c2-b070-6fb3092e2050"
      },
      "source": [
        "Vine_program_paid[\"review_id\"].count()"
      ],
      "execution_count": null,
      "outputs": [
        {
          "output_type": "execute_result",
          "data": {
            "text/plain": [
              "3"
            ]
          },
          "metadata": {},
          "execution_count": 81
        }
      ]
    },
    {
      "cell_type": "code",
      "metadata": {
        "colab": {
          "base_uri": "https://localhost:8080/",
          "height": 408
        },
        "id": "VVDzNp6TjhHM",
        "outputId": "41bf290a-72fb-4c75-e30f-d3bb56a943a7"
      },
      "source": [
        "Vine_program_unpaid = Vote_ratio_over_50 [(Vote_ratio_over_50 [\"vine\"] == \"N\")]\n",
        "Vine_program_unpaid "
      ],
      "execution_count": null,
      "outputs": [
        {
          "output_type": "execute_result",
          "data": {
            "text/html": [
              "<div>\n",
              "<style scoped>\n",
              "    .dataframe tbody tr th:only-of-type {\n",
              "        vertical-align: middle;\n",
              "    }\n",
              "\n",
              "    .dataframe tbody tr th {\n",
              "        vertical-align: top;\n",
              "    }\n",
              "\n",
              "    .dataframe thead th {\n",
              "        text-align: right;\n",
              "    }\n",
              "</style>\n",
              "<table border=\"1\" class=\"dataframe\">\n",
              "  <thead>\n",
              "    <tr style=\"text-align: right;\">\n",
              "      <th></th>\n",
              "      <th>review_id</th>\n",
              "      <th>star_rating</th>\n",
              "      <th>helpful_votes</th>\n",
              "      <th>total_votes</th>\n",
              "      <th>vine</th>\n",
              "      <th>verified_purchase</th>\n",
              "      <th>ratio_helpful_total_votes</th>\n",
              "    </tr>\n",
              "  </thead>\n",
              "  <tbody>\n",
              "    <tr>\n",
              "      <th>884</th>\n",
              "      <td>R2PT2X8FMYFCV3</td>\n",
              "      <td>5</td>\n",
              "      <td>39</td>\n",
              "      <td>41</td>\n",
              "      <td>N</td>\n",
              "      <td>Y</td>\n",
              "      <td>0.951220</td>\n",
              "    </tr>\n",
              "    <tr>\n",
              "      <th>917</th>\n",
              "      <td>RGCUQSH80SYY7</td>\n",
              "      <td>1</td>\n",
              "      <td>36</td>\n",
              "      <td>47</td>\n",
              "      <td>N</td>\n",
              "      <td>N</td>\n",
              "      <td>0.765957</td>\n",
              "    </tr>\n",
              "    <tr>\n",
              "      <th>939</th>\n",
              "      <td>R3E6EI073KP0AL</td>\n",
              "      <td>2</td>\n",
              "      <td>21</td>\n",
              "      <td>36</td>\n",
              "      <td>N</td>\n",
              "      <td>Y</td>\n",
              "      <td>0.583333</td>\n",
              "    </tr>\n",
              "    <tr>\n",
              "      <th>947</th>\n",
              "      <td>R3MYTXW7B4Z6YW</td>\n",
              "      <td>4</td>\n",
              "      <td>687</td>\n",
              "      <td>711</td>\n",
              "      <td>N</td>\n",
              "      <td>Y</td>\n",
              "      <td>0.966245</td>\n",
              "    </tr>\n",
              "    <tr>\n",
              "      <th>1211</th>\n",
              "      <td>R2WMF1IWN5ZYO4</td>\n",
              "      <td>5</td>\n",
              "      <td>18</td>\n",
              "      <td>24</td>\n",
              "      <td>N</td>\n",
              "      <td>Y</td>\n",
              "      <td>0.750000</td>\n",
              "    </tr>\n",
              "    <tr>\n",
              "      <th>...</th>\n",
              "      <td>...</td>\n",
              "      <td>...</td>\n",
              "      <td>...</td>\n",
              "      <td>...</td>\n",
              "      <td>...</td>\n",
              "      <td>...</td>\n",
              "      <td>...</td>\n",
              "    </tr>\n",
              "    <tr>\n",
              "      <th>85976</th>\n",
              "      <td>R1NUYN39WEVD9X</td>\n",
              "      <td>5</td>\n",
              "      <td>96</td>\n",
              "      <td>98</td>\n",
              "      <td>N</td>\n",
              "      <td>N</td>\n",
              "      <td>0.979592</td>\n",
              "    </tr>\n",
              "    <tr>\n",
              "      <th>85977</th>\n",
              "      <td>RD17SQQ58L34O</td>\n",
              "      <td>5</td>\n",
              "      <td>46</td>\n",
              "      <td>48</td>\n",
              "      <td>N</td>\n",
              "      <td>N</td>\n",
              "      <td>0.958333</td>\n",
              "    </tr>\n",
              "    <tr>\n",
              "      <th>85978</th>\n",
              "      <td>R30DX2RCMIKQ90</td>\n",
              "      <td>5</td>\n",
              "      <td>31</td>\n",
              "      <td>34</td>\n",
              "      <td>N</td>\n",
              "      <td>N</td>\n",
              "      <td>0.911765</td>\n",
              "    </tr>\n",
              "    <tr>\n",
              "      <th>85979</th>\n",
              "      <td>R1O8C9XEYHQUIH</td>\n",
              "      <td>2</td>\n",
              "      <td>38</td>\n",
              "      <td>41</td>\n",
              "      <td>N</td>\n",
              "      <td>N</td>\n",
              "      <td>0.926829</td>\n",
              "    </tr>\n",
              "    <tr>\n",
              "      <th>85980</th>\n",
              "      <td>R1WM4Y8G4DPHTL</td>\n",
              "      <td>5</td>\n",
              "      <td>19</td>\n",
              "      <td>21</td>\n",
              "      <td>N</td>\n",
              "      <td>N</td>\n",
              "      <td>0.904762</td>\n",
              "    </tr>\n",
              "  </tbody>\n",
              "</table>\n",
              "<p>3094 rows × 7 columns</p>\n",
              "</div>"
            ],
            "text/plain": [
              "            review_id  star_rating  ...  verified_purchase  ratio_helpful_total_votes\n",
              "884    R2PT2X8FMYFCV3            5  ...                  Y                   0.951220\n",
              "917     RGCUQSH80SYY7            1  ...                  N                   0.765957\n",
              "939    R3E6EI073KP0AL            2  ...                  Y                   0.583333\n",
              "947    R3MYTXW7B4Z6YW            4  ...                  Y                   0.966245\n",
              "1211   R2WMF1IWN5ZYO4            5  ...                  Y                   0.750000\n",
              "...               ...          ...  ...                ...                        ...\n",
              "85976  R1NUYN39WEVD9X            5  ...                  N                   0.979592\n",
              "85977   RD17SQQ58L34O            5  ...                  N                   0.958333\n",
              "85978  R30DX2RCMIKQ90            5  ...                  N                   0.911765\n",
              "85979  R1O8C9XEYHQUIH            2  ...                  N                   0.926829\n",
              "85980  R1WM4Y8G4DPHTL            5  ...                  N                   0.904762\n",
              "\n",
              "[3094 rows x 7 columns]"
            ]
          },
          "metadata": {},
          "execution_count": 82
        }
      ]
    },
    {
      "cell_type": "code",
      "metadata": {
        "colab": {
          "base_uri": "https://localhost:8080/"
        },
        "id": "3cOm0EXygU2V",
        "outputId": "435f9638-ecfb-49b7-837a-2387090d6988"
      },
      "source": [
        "Vine_program_unpaid[\"review_id\"].count()"
      ],
      "execution_count": null,
      "outputs": [
        {
          "output_type": "execute_result",
          "data": {
            "text/plain": [
              "3094"
            ]
          },
          "metadata": {},
          "execution_count": 83
        }
      ]
    },
    {
      "cell_type": "code",
      "metadata": {
        "colab": {
          "base_uri": "https://localhost:8080/"
        },
        "id": "gbquCfd2vm6C",
        "outputId": "e7a08bf7-58cd-47b9-f674-1c477dde4e6c"
      },
      "source": [
        "Total_number_of_reviews = New_vine_table_votes_over_20[\"vine\"].count()  \n",
        "Total_number_of_reviews"
      ],
      "execution_count": null,
      "outputs": [
        {
          "output_type": "execute_result",
          "data": {
            "text/plain": [
              "3414"
            ]
          },
          "metadata": {},
          "execution_count": 84
        }
      ]
    },
    {
      "cell_type": "code",
      "metadata": {
        "colab": {
          "base_uri": "https://localhost:8080/",
          "height": 408
        },
        "id": "PYiZh5-HoLcM",
        "outputId": "4be18f07-78e7-4a71-acbd-a5e817f660b1"
      },
      "source": [
        "number_of_5star_reviews = Vote_ratio_over_50[(Vote_ratio_over_50[\"star_rating\"] == 5)] \n",
        "number_of_5star_reviews"
      ],
      "execution_count": null,
      "outputs": [
        {
          "output_type": "execute_result",
          "data": {
            "text/html": [
              "<div>\n",
              "<style scoped>\n",
              "    .dataframe tbody tr th:only-of-type {\n",
              "        vertical-align: middle;\n",
              "    }\n",
              "\n",
              "    .dataframe tbody tr th {\n",
              "        vertical-align: top;\n",
              "    }\n",
              "\n",
              "    .dataframe thead th {\n",
              "        text-align: right;\n",
              "    }\n",
              "</style>\n",
              "<table border=\"1\" class=\"dataframe\">\n",
              "  <thead>\n",
              "    <tr style=\"text-align: right;\">\n",
              "      <th></th>\n",
              "      <th>review_id</th>\n",
              "      <th>star_rating</th>\n",
              "      <th>helpful_votes</th>\n",
              "      <th>total_votes</th>\n",
              "      <th>vine</th>\n",
              "      <th>verified_purchase</th>\n",
              "      <th>ratio_helpful_total_votes</th>\n",
              "    </tr>\n",
              "  </thead>\n",
              "  <tbody>\n",
              "    <tr>\n",
              "      <th>884</th>\n",
              "      <td>R2PT2X8FMYFCV3</td>\n",
              "      <td>5</td>\n",
              "      <td>39</td>\n",
              "      <td>41</td>\n",
              "      <td>N</td>\n",
              "      <td>Y</td>\n",
              "      <td>0.951220</td>\n",
              "    </tr>\n",
              "    <tr>\n",
              "      <th>1211</th>\n",
              "      <td>R2WMF1IWN5ZYO4</td>\n",
              "      <td>5</td>\n",
              "      <td>18</td>\n",
              "      <td>24</td>\n",
              "      <td>N</td>\n",
              "      <td>Y</td>\n",
              "      <td>0.750000</td>\n",
              "    </tr>\n",
              "    <tr>\n",
              "      <th>1401</th>\n",
              "      <td>ROX6L7VJFS2P7</td>\n",
              "      <td>5</td>\n",
              "      <td>339</td>\n",
              "      <td>371</td>\n",
              "      <td>N</td>\n",
              "      <td>N</td>\n",
              "      <td>0.913747</td>\n",
              "    </tr>\n",
              "    <tr>\n",
              "      <th>1528</th>\n",
              "      <td>R2QBKTWBDPL8BF</td>\n",
              "      <td>5</td>\n",
              "      <td>65</td>\n",
              "      <td>83</td>\n",
              "      <td>N</td>\n",
              "      <td>N</td>\n",
              "      <td>0.783133</td>\n",
              "    </tr>\n",
              "    <tr>\n",
              "      <th>1690</th>\n",
              "      <td>R3ULT9I0U79N8L</td>\n",
              "      <td>5</td>\n",
              "      <td>49</td>\n",
              "      <td>57</td>\n",
              "      <td>N</td>\n",
              "      <td>N</td>\n",
              "      <td>0.859649</td>\n",
              "    </tr>\n",
              "    <tr>\n",
              "      <th>...</th>\n",
              "      <td>...</td>\n",
              "      <td>...</td>\n",
              "      <td>...</td>\n",
              "      <td>...</td>\n",
              "      <td>...</td>\n",
              "      <td>...</td>\n",
              "      <td>...</td>\n",
              "    </tr>\n",
              "    <tr>\n",
              "      <th>85970</th>\n",
              "      <td>R5U7TLT55KEV</td>\n",
              "      <td>5</td>\n",
              "      <td>18</td>\n",
              "      <td>35</td>\n",
              "      <td>N</td>\n",
              "      <td>N</td>\n",
              "      <td>0.514286</td>\n",
              "    </tr>\n",
              "    <tr>\n",
              "      <th>85976</th>\n",
              "      <td>R1NUYN39WEVD9X</td>\n",
              "      <td>5</td>\n",
              "      <td>96</td>\n",
              "      <td>98</td>\n",
              "      <td>N</td>\n",
              "      <td>N</td>\n",
              "      <td>0.979592</td>\n",
              "    </tr>\n",
              "    <tr>\n",
              "      <th>85977</th>\n",
              "      <td>RD17SQQ58L34O</td>\n",
              "      <td>5</td>\n",
              "      <td>46</td>\n",
              "      <td>48</td>\n",
              "      <td>N</td>\n",
              "      <td>N</td>\n",
              "      <td>0.958333</td>\n",
              "    </tr>\n",
              "    <tr>\n",
              "      <th>85978</th>\n",
              "      <td>R30DX2RCMIKQ90</td>\n",
              "      <td>5</td>\n",
              "      <td>31</td>\n",
              "      <td>34</td>\n",
              "      <td>N</td>\n",
              "      <td>N</td>\n",
              "      <td>0.911765</td>\n",
              "    </tr>\n",
              "    <tr>\n",
              "      <th>85980</th>\n",
              "      <td>R1WM4Y8G4DPHTL</td>\n",
              "      <td>5</td>\n",
              "      <td>19</td>\n",
              "      <td>21</td>\n",
              "      <td>N</td>\n",
              "      <td>N</td>\n",
              "      <td>0.904762</td>\n",
              "    </tr>\n",
              "  </tbody>\n",
              "</table>\n",
              "<p>1706 rows × 7 columns</p>\n",
              "</div>"
            ],
            "text/plain": [
              "            review_id  star_rating  ...  verified_purchase  ratio_helpful_total_votes\n",
              "884    R2PT2X8FMYFCV3            5  ...                  Y                   0.951220\n",
              "1211   R2WMF1IWN5ZYO4            5  ...                  Y                   0.750000\n",
              "1401    ROX6L7VJFS2P7            5  ...                  N                   0.913747\n",
              "1528   R2QBKTWBDPL8BF            5  ...                  N                   0.783133\n",
              "1690   R3ULT9I0U79N8L            5  ...                  N                   0.859649\n",
              "...               ...          ...  ...                ...                        ...\n",
              "85970    R5U7TLT55KEV            5  ...                  N                   0.514286\n",
              "85976  R1NUYN39WEVD9X            5  ...                  N                   0.979592\n",
              "85977   RD17SQQ58L34O            5  ...                  N                   0.958333\n",
              "85978  R30DX2RCMIKQ90            5  ...                  N                   0.911765\n",
              "85980  R1WM4Y8G4DPHTL            5  ...                  N                   0.904762\n",
              "\n",
              "[1706 rows x 7 columns]"
            ]
          },
          "metadata": {},
          "execution_count": 85
        }
      ]
    },
    {
      "cell_type": "code",
      "metadata": {
        "id": "FLQMihowpQdc",
        "colab": {
          "base_uri": "https://localhost:8080/",
          "height": 108
        },
        "outputId": "c5c0ec30-5378-47b9-f578-9cae5abb45ae"
      },
      "source": [
        "Five_star_reviews_Vine_program_paid = Vote_ratio_over_50[(Vote_ratio_over_50 [\"vine\"] == \"Y\")&(Vote_ratio_over_50 [\"star_rating\"]==5)] \n",
        "Five_star_reviews_Vine_program_paid"
      ],
      "execution_count": null,
      "outputs": [
        {
          "output_type": "execute_result",
          "data": {
            "text/html": [
              "<div>\n",
              "<style scoped>\n",
              "    .dataframe tbody tr th:only-of-type {\n",
              "        vertical-align: middle;\n",
              "    }\n",
              "\n",
              "    .dataframe tbody tr th {\n",
              "        vertical-align: top;\n",
              "    }\n",
              "\n",
              "    .dataframe thead th {\n",
              "        text-align: right;\n",
              "    }\n",
              "</style>\n",
              "<table border=\"1\" class=\"dataframe\">\n",
              "  <thead>\n",
              "    <tr style=\"text-align: right;\">\n",
              "      <th></th>\n",
              "      <th>review_id</th>\n",
              "      <th>star_rating</th>\n",
              "      <th>helpful_votes</th>\n",
              "      <th>total_votes</th>\n",
              "      <th>vine</th>\n",
              "      <th>verified_purchase</th>\n",
              "      <th>ratio_helpful_total_votes</th>\n",
              "    </tr>\n",
              "  </thead>\n",
              "  <tbody>\n",
              "    <tr>\n",
              "      <th>32351</th>\n",
              "      <td>R3R2RHQWEKX5NL</td>\n",
              "      <td>5</td>\n",
              "      <td>81</td>\n",
              "      <td>89</td>\n",
              "      <td>Y</td>\n",
              "      <td>N</td>\n",
              "      <td>0.910112</td>\n",
              "    </tr>\n",
              "    <tr>\n",
              "      <th>32557</th>\n",
              "      <td>RQ94HI0WM8KIG</td>\n",
              "      <td>5</td>\n",
              "      <td>174</td>\n",
              "      <td>188</td>\n",
              "      <td>Y</td>\n",
              "      <td>N</td>\n",
              "      <td>0.925532</td>\n",
              "    </tr>\n",
              "  </tbody>\n",
              "</table>\n",
              "</div>"
            ],
            "text/plain": [
              "            review_id  star_rating  ...  verified_purchase  ratio_helpful_total_votes\n",
              "32351  R3R2RHQWEKX5NL            5  ...                  N                   0.910112\n",
              "32557   RQ94HI0WM8KIG            5  ...                  N                   0.925532\n",
              "\n",
              "[2 rows x 7 columns]"
            ]
          },
          "metadata": {},
          "execution_count": 86
        }
      ]
    },
    {
      "cell_type": "code",
      "metadata": {
        "colab": {
          "base_uri": "https://localhost:8080/"
        },
        "id": "bwkKjZPUex9u",
        "outputId": "799dabee-32df-46dd-c2f0-0b59ab98bb0f"
      },
      "source": [
        "Five_star_reviews_Vine_program_paid[\"review_id\"].count()"
      ],
      "execution_count": null,
      "outputs": [
        {
          "output_type": "execute_result",
          "data": {
            "text/plain": [
              "2"
            ]
          },
          "metadata": {},
          "execution_count": 87
        }
      ]
    },
    {
      "cell_type": "code",
      "metadata": {
        "colab": {
          "base_uri": "https://localhost:8080/"
        },
        "id": "eU71knYLfeAL",
        "outputId": "5969a49e-99c3-4dd2-e35b-accb6ffaba1c"
      },
      "source": [
        "Percentage_of_Five_star_reviews_Vine_program_paid = Five_star_reviews_Vine_program_paid[\"review_id\"].count()/Vine_program_paid[\"review_id\"].count()*100\n",
        "Percentage_of_Five_star_reviews_Vine_program_paid"
      ],
      "execution_count": null,
      "outputs": [
        {
          "output_type": "execute_result",
          "data": {
            "text/plain": [
              "66.66666666666666"
            ]
          },
          "metadata": {},
          "execution_count": 88
        }
      ]
    },
    {
      "cell_type": "code",
      "metadata": {
        "colab": {
          "base_uri": "https://localhost:8080/",
          "height": 408
        },
        "id": "Q2ktAr6of7M9",
        "outputId": "5e8efb38-9220-4a49-bd6c-8860ab25e92b"
      },
      "source": [
        "Five_star_reviews_Vine_program_unpaid = Vote_ratio_over_50[(Vote_ratio_over_50 [\"vine\"] == \"N\")&(Vote_ratio_over_50 [\"star_rating\"]==5)] \n",
        "Five_star_reviews_Vine_program_unpaid"
      ],
      "execution_count": null,
      "outputs": [
        {
          "output_type": "execute_result",
          "data": {
            "text/html": [
              "<div>\n",
              "<style scoped>\n",
              "    .dataframe tbody tr th:only-of-type {\n",
              "        vertical-align: middle;\n",
              "    }\n",
              "\n",
              "    .dataframe tbody tr th {\n",
              "        vertical-align: top;\n",
              "    }\n",
              "\n",
              "    .dataframe thead th {\n",
              "        text-align: right;\n",
              "    }\n",
              "</style>\n",
              "<table border=\"1\" class=\"dataframe\">\n",
              "  <thead>\n",
              "    <tr style=\"text-align: right;\">\n",
              "      <th></th>\n",
              "      <th>review_id</th>\n",
              "      <th>star_rating</th>\n",
              "      <th>helpful_votes</th>\n",
              "      <th>total_votes</th>\n",
              "      <th>vine</th>\n",
              "      <th>verified_purchase</th>\n",
              "      <th>ratio_helpful_total_votes</th>\n",
              "    </tr>\n",
              "  </thead>\n",
              "  <tbody>\n",
              "    <tr>\n",
              "      <th>884</th>\n",
              "      <td>R2PT2X8FMYFCV3</td>\n",
              "      <td>5</td>\n",
              "      <td>39</td>\n",
              "      <td>41</td>\n",
              "      <td>N</td>\n",
              "      <td>Y</td>\n",
              "      <td>0.951220</td>\n",
              "    </tr>\n",
              "    <tr>\n",
              "      <th>1211</th>\n",
              "      <td>R2WMF1IWN5ZYO4</td>\n",
              "      <td>5</td>\n",
              "      <td>18</td>\n",
              "      <td>24</td>\n",
              "      <td>N</td>\n",
              "      <td>Y</td>\n",
              "      <td>0.750000</td>\n",
              "    </tr>\n",
              "    <tr>\n",
              "      <th>1401</th>\n",
              "      <td>ROX6L7VJFS2P7</td>\n",
              "      <td>5</td>\n",
              "      <td>339</td>\n",
              "      <td>371</td>\n",
              "      <td>N</td>\n",
              "      <td>N</td>\n",
              "      <td>0.913747</td>\n",
              "    </tr>\n",
              "    <tr>\n",
              "      <th>1528</th>\n",
              "      <td>R2QBKTWBDPL8BF</td>\n",
              "      <td>5</td>\n",
              "      <td>65</td>\n",
              "      <td>83</td>\n",
              "      <td>N</td>\n",
              "      <td>N</td>\n",
              "      <td>0.783133</td>\n",
              "    </tr>\n",
              "    <tr>\n",
              "      <th>1690</th>\n",
              "      <td>R3ULT9I0U79N8L</td>\n",
              "      <td>5</td>\n",
              "      <td>49</td>\n",
              "      <td>57</td>\n",
              "      <td>N</td>\n",
              "      <td>N</td>\n",
              "      <td>0.859649</td>\n",
              "    </tr>\n",
              "    <tr>\n",
              "      <th>...</th>\n",
              "      <td>...</td>\n",
              "      <td>...</td>\n",
              "      <td>...</td>\n",
              "      <td>...</td>\n",
              "      <td>...</td>\n",
              "      <td>...</td>\n",
              "      <td>...</td>\n",
              "    </tr>\n",
              "    <tr>\n",
              "      <th>85970</th>\n",
              "      <td>R5U7TLT55KEV</td>\n",
              "      <td>5</td>\n",
              "      <td>18</td>\n",
              "      <td>35</td>\n",
              "      <td>N</td>\n",
              "      <td>N</td>\n",
              "      <td>0.514286</td>\n",
              "    </tr>\n",
              "    <tr>\n",
              "      <th>85976</th>\n",
              "      <td>R1NUYN39WEVD9X</td>\n",
              "      <td>5</td>\n",
              "      <td>96</td>\n",
              "      <td>98</td>\n",
              "      <td>N</td>\n",
              "      <td>N</td>\n",
              "      <td>0.979592</td>\n",
              "    </tr>\n",
              "    <tr>\n",
              "      <th>85977</th>\n",
              "      <td>RD17SQQ58L34O</td>\n",
              "      <td>5</td>\n",
              "      <td>46</td>\n",
              "      <td>48</td>\n",
              "      <td>N</td>\n",
              "      <td>N</td>\n",
              "      <td>0.958333</td>\n",
              "    </tr>\n",
              "    <tr>\n",
              "      <th>85978</th>\n",
              "      <td>R30DX2RCMIKQ90</td>\n",
              "      <td>5</td>\n",
              "      <td>31</td>\n",
              "      <td>34</td>\n",
              "      <td>N</td>\n",
              "      <td>N</td>\n",
              "      <td>0.911765</td>\n",
              "    </tr>\n",
              "    <tr>\n",
              "      <th>85980</th>\n",
              "      <td>R1WM4Y8G4DPHTL</td>\n",
              "      <td>5</td>\n",
              "      <td>19</td>\n",
              "      <td>21</td>\n",
              "      <td>N</td>\n",
              "      <td>N</td>\n",
              "      <td>0.904762</td>\n",
              "    </tr>\n",
              "  </tbody>\n",
              "</table>\n",
              "<p>1704 rows × 7 columns</p>\n",
              "</div>"
            ],
            "text/plain": [
              "            review_id  star_rating  ...  verified_purchase  ratio_helpful_total_votes\n",
              "884    R2PT2X8FMYFCV3            5  ...                  Y                   0.951220\n",
              "1211   R2WMF1IWN5ZYO4            5  ...                  Y                   0.750000\n",
              "1401    ROX6L7VJFS2P7            5  ...                  N                   0.913747\n",
              "1528   R2QBKTWBDPL8BF            5  ...                  N                   0.783133\n",
              "1690   R3ULT9I0U79N8L            5  ...                  N                   0.859649\n",
              "...               ...          ...  ...                ...                        ...\n",
              "85970    R5U7TLT55KEV            5  ...                  N                   0.514286\n",
              "85976  R1NUYN39WEVD9X            5  ...                  N                   0.979592\n",
              "85977   RD17SQQ58L34O            5  ...                  N                   0.958333\n",
              "85978  R30DX2RCMIKQ90            5  ...                  N                   0.911765\n",
              "85980  R1WM4Y8G4DPHTL            5  ...                  N                   0.904762\n",
              "\n",
              "[1704 rows x 7 columns]"
            ]
          },
          "metadata": {},
          "execution_count": 89
        }
      ]
    },
    {
      "cell_type": "code",
      "metadata": {
        "colab": {
          "base_uri": "https://localhost:8080/"
        },
        "id": "RTkDn-dSgBdi",
        "outputId": "2c1f879b-4f28-47da-b816-313079b7f19e"
      },
      "source": [
        "Five_star_reviews_Vine_program_unpaid[\"review_id\"].count()"
      ],
      "execution_count": null,
      "outputs": [
        {
          "output_type": "execute_result",
          "data": {
            "text/plain": [
              "1704"
            ]
          },
          "metadata": {},
          "execution_count": 90
        }
      ]
    },
    {
      "cell_type": "code",
      "metadata": {
        "colab": {
          "base_uri": "https://localhost:8080/"
        },
        "id": "ptoaxijygQi7",
        "outputId": "7985a0f7-5b8a-4f8a-9afe-7dda9b077b93"
      },
      "source": [
        "Percentage_of_Five_star_reviews_Vine_program_unpaid = Five_star_reviews_Vine_program_unpaid[\"review_id\"].count()/Vine_program_unpaid[\"review_id\"].count()*100\n",
        "Percentage_of_Five_star_reviews_Vine_program_unpaid"
      ],
      "execution_count": null,
      "outputs": [
        {
          "output_type": "execute_result",
          "data": {
            "text/plain": [
              "55.07433742727861"
            ]
          },
          "metadata": {},
          "execution_count": 91
        }
      ]
    },
    {
      "cell_type": "code",
      "metadata": {
        "colab": {
          "base_uri": "https://localhost:8080/",
          "height": 280
        },
        "id": "_wSwoKpUndCb",
        "outputId": "d62db427-8cfd-4bc7-c247-4bbc53315480"
      },
      "source": [
        "plt.scatter(Five_star_reviews_Vine_program_unpaid.star_rating, Five_star_reviews_Vine_program_unpaid.ratio_helpful_total_votes)\n",
        "plt.xlabel('star_rating')\n",
        "plt.ylabel('ratio_helpful_total_votes')\n",
        "plt.show()"
      ],
      "execution_count": null,
      "outputs": [
        {
          "output_type": "display_data",
          "data": {
            "image/png": "[encoded data removed]",
            "text/plain": [
              "<Figure size 432x288 with 1 Axes>"
            ]
          },
          "metadata": {
            "needs_background": "light"
          }
        }
      ]
    },
    {
      "cell_type": "code",
      "metadata": {
        "colab": {
          "base_uri": "https://localhost:8080/",
          "height": 280
        },
        "id": "xGP6HkVzq7K2",
        "outputId": "0c5ac774-acf6-4163-ce01-c3d1edef7d07"
      },
      "source": [
        "plt.scatter(Five_star_reviews_Vine_program_unpaid.helpful_votes\t, Five_star_reviews_Vine_program_unpaid.total_votes)\n",
        "plt.xlabel('helpful_votes')\n",
        "plt.ylabel('total_votes')\n",
        "plt.show()"
      ],
      "execution_count": null,
      "outputs": [
        {
          "output_type": "display_data",
          "data": {
            "image/png": "[encoded data removed]",
            "text/plain": [
              "<Figure size 432x288 with 1 Axes>"
            ]
          },
          "metadata": {
            "needs_background": "light"
          }
        }
      ]
    },
    {
      "cell_type": "code",
      "metadata": {
        "id": "Z_Ugvmr9yJkC"
      },
      "source": [
        "X = Five_star_reviews_Vine_program_unpaid.helpful_votes.values.reshape(-1, 1)"
      ],
      "execution_count": null,
      "outputs": []
    },
    {
      "cell_type": "code",
      "metadata": {
        "colab": {
          "base_uri": "https://localhost:8080/"
        },
        "id": "LAMojAJLyY1e",
        "outputId": "759ae297-484f-4bd3-eb25-a259d64a9487"
      },
      "source": [
        "X[:5]"
      ],
      "execution_count": null,
      "outputs": [
        {
          "output_type": "execute_result",
          "data": {
            "text/plain": [
              "array([[ 39],\n",
              "       [ 18],\n",
              "       [339],\n",
              "       [ 65],\n",
              "       [ 49]])"
            ]
          },
          "metadata": {},
          "execution_count": 101
        }
      ]
    },
    {
      "cell_type": "code",
      "metadata": {
        "colab": {
          "base_uri": "https://localhost:8080/"
        },
        "id": "Raju4T7oyd_w",
        "outputId": "fd90ab63-ea99-49d5-fa82-03dd6f21dd0a"
      },
      "source": [
        "X.shape"
      ],
      "execution_count": null,
      "outputs": [
        {
          "output_type": "execute_result",
          "data": {
            "text/plain": [
              "(1704, 1)"
            ]
          },
          "metadata": {},
          "execution_count": 102
        }
      ]
    },
    {
      "cell_type": "code",
      "metadata": {
        "id": "TCnsTpGTyi-F"
      },
      "source": [
        "y = Five_star_reviews_Vine_program_unpaid.total_votes"
      ],
      "execution_count": null,
      "outputs": []
    },
    {
      "cell_type": "code",
      "metadata": {
        "id": "AJ3A3CLEyo0t"
      },
      "source": [
        "model = LinearRegression()"
      ],
      "execution_count": null,
      "outputs": []
    },
    {
      "cell_type": "code",
      "metadata": {
        "colab": {
          "base_uri": "https://localhost:8080/"
        },
        "id": "X51RfFfkyxJf",
        "outputId": "3a02de27-e85d-47c6-91b7-7600acb73730"
      },
      "source": [
        "model.fit(X, y)"
      ],
      "execution_count": null,
      "outputs": [
        {
          "output_type": "execute_result",
          "data": {
            "text/plain": [
              "LinearRegression(copy_X=True, fit_intercept=True, n_jobs=None, normalize=False)"
            ]
          },
          "metadata": {},
          "execution_count": 105
        }
      ]
    },
    {
      "cell_type": "code",
      "metadata": {
        "colab": {
          "base_uri": "https://localhost:8080/"
        },
        "id": "JQnKJTAwy4UV",
        "outputId": "379d800f-a0d7-44d4-fc19-e229d5800ebe"
      },
      "source": [
        "y_pred = model.predict(X)\n",
        "print(y_pred.shape)"
      ],
      "execution_count": null,
      "outputs": [
        {
          "output_type": "stream",
          "name": "stdout",
          "text": [
            "(1704,)\n"
          ]
        }
      ]
    },
    {
      "cell_type": "code",
      "metadata": {
        "colab": {
          "base_uri": "https://localhost:8080/",
          "height": 265
        },
        "id": "qIC7Fz7Py7Ke",
        "outputId": "3d480642-2332-47bb-b272-a90fe3af9066"
      },
      "source": [
        "plt.scatter(X, y)\n",
        "plt.plot(X, y_pred, color='red')\n",
        "plt.show()"
      ],
      "execution_count": null,
      "outputs": [
        {
          "output_type": "display_data",
          "data": {
            "image/png": "[encoded data removed]",
            "text/plain": [
              "<Figure size 432x288 with 1 Axes>"
            ]
          },
          "metadata": {
            "needs_background": "light"
          }
        }
      ]
    },
    {
      "cell_type": "code",
      "metadata": {
        "colab": {
          "base_uri": "https://localhost:8080/"
        },
        "id": "Y2Js0roBzFdE",
        "outputId": "d2f3460f-40c8-48c8-e231-e88daa7cb3c1"
      },
      "source": [
        "print(model.coef_)\n",
        "print(model.intercept_)"
      ],
      "execution_count": null,
      "outputs": [
        {
          "output_type": "stream",
          "name": "stdout",
          "text": [
            "[1.05694134]\n",
            "1.5852043502027655\n"
          ]
        }
      ]
    },
    {
      "cell_type": "code",
      "metadata": {
        "colab": {
          "base_uri": "https://localhost:8080/",
          "height": 280
        },
        "id": "mPpy8GtKrUj-",
        "outputId": "33a11f8c-3a0e-427c-a96f-c4ad1cc104a6"
      },
      "source": [
        "plt.scatter(Five_star_reviews_Vine_program_paid.helpful_votes\t, Five_star_reviews_Vine_program_paid.total_votes)\n",
        "plt.xlabel('helpful_votes')\n",
        "plt.ylabel('total_votes')\n",
        "plt.show()"
      ],
      "execution_count": null,
      "outputs": [
        {
          "output_type": "display_data",
          "data": {
            "image/png": "[encoded data removed]",
            "text/plain": [
              "<Figure size 432x288 with 1 Axes>"
            ]
          },
          "metadata": {
            "needs_background": "light"
          }
        }
      ]
    }
  ]
}